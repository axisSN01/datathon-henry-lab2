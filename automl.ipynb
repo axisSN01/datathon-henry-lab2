{
 "cells": [
  {
   "cell_type": "code",
   "execution_count": null,
   "metadata": {},
   "outputs": [],
   "source": [
    "import pandas as pd\n",
    "import numpy as np\n",
    "from sklearn.model_selection import cross_val_score, KFold, train_test_split"
   ]
  },
  {
   "cell_type": "code",
   "execution_count": null,
   "metadata": {},
   "outputs": [],
   "source": [
    "train = pd.read_csv('../datasets//henry_lab_disk/train_final.csv', index_col=0, parse_dates=['start_date'])\n",
    "test = pd.read_csv('../datasets/henry_lab_disk/test_final.csv', index_col = 0,parse_dates=['start_date'])"
   ]
  },
  {
   "cell_type": "code",
   "execution_count": null,
   "metadata": {},
   "outputs": [],
   "source": [
    "todrop = ['l2', 'l3', 'start_date']\n",
    "train.drop(todrop, axis=1, inplace=True)\n",
    "test.drop(todrop, axis=1, inplace=True)"
   ]
  },
  {
   "cell_type": "code",
   "execution_count": null,
   "metadata": {},
   "outputs": [],
   "source": [
    "# Import OneHotEncoder\n",
    "from sklearn.preprocessing import OneHotEncoder\n",
    "# Create OneHotEncoder: ohe\n",
    "ohe = OneHotEncoder(sparse=False)\n",
    "to_transform = ['property_type', 'bathrooms_cat', 'bedrooms_cat']\n",
    "X = ohe.fit_transform(train[to_transform])\n",
    "X = pd.DataFrame(X, columns=ohe.get_feature_names_out(to_transform))\n",
    "train = pd.concat([train, X], axis=1)\n",
    "train.drop(to_transform, axis=1, inplace=True)"
   ]
  },
  {
   "cell_type": "code",
   "execution_count": null,
   "metadata": {},
   "outputs": [],
   "source": [
    "X_train, X_test, y_train, y_test = train_test_split(train.drop('target', axis=1), train['target'], test_size=0.2, random_state=42)"
   ]
  },
  {
   "cell_type": "code",
   "execution_count": null,
   "metadata": {},
   "outputs": [],
   "source": [
    "import tpot\n",
    "pipeline_optimizer = tpot.TPOTClassifier(generations=5, #number of iterations to run the training\n",
    "                                         population_size=20, #number of individuals to train\n",
    "                                         cv=5, max_time_mins = 60) #number of folds in StratifiedKFold\n",
    "pipeline_optimizer.fit(X_train, y_train) #fit the pipeline optimizer - can take a long time\n",
    "\n",
    "print(pipeline_optimizer.score(X_test, y_test)) #print scoring for the pipeline\n"
   ]
  },
  {
   "cell_type": "code",
   "execution_count": null,
   "metadata": {},
   "outputs": [],
   "source": [
    "pipeline_optimizer.export('tpot_exported_pipeline.py') #export the pipeline - in Python code!"
   ]
  }
 ],
 "metadata": {
  "kernelspec": {
   "display_name": "Python 3 (ipykernel)",
   "language": "python",
   "name": "python3"
  },
  "orig_nbformat": 4
 },
 "nbformat": 4,
 "nbformat_minor": 2
}
