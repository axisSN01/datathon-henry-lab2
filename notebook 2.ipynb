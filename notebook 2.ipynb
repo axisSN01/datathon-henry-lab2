{
 "cells": [
  {
   "cell_type": "markdown",
   "metadata": {},
   "source": [
    "## TEST SET\n",
    "Applying quickly all the transfomations made in the previous notebook. Just run it and continue to NOTEBOOK 3"
   ]
  },
  {
   "cell_type": "markdown",
   "metadata": {},
   "source": [
    "## TEST SET CLEANING"
   ]
  },
  {
   "cell_type": "code",
   "execution_count": 351,
   "metadata": {
    "vscode": {
     "languageId": "python"
    }
   },
   "outputs": [],
   "source": [
    "import pandas as pd\n",
    "import numpy as np\n",
    "pd.options.display.float_format = '{:.10f}'.format\n",
    "\n",
    "### MISSING VALUE VISUALIZATION\n",
    "import missingno as msno\n",
    "\n",
    "### DATA PLOTTING\n",
    "import matplotlib.pyplot as plt\n",
    "import seaborn as sns\n",
    "\n",
    "### DATA PREPROCESSING\n",
    "from functions import *\n",
    "\n",
    "### IMPUTATION\n",
    "from sklearn.experimental import enable_iterative_imputer\n",
    "from sklearn.impute import IterativeImputer\n",
    "from sklearn import linear_model\n",
    "\n",
    "### ENCODING\n",
    "from sklearn.preprocessing import LabelEncoder"
   ]
  },
  {
   "cell_type": "markdown",
   "metadata": {},
   "source": [
    "#### Loading data"
   ]
  },
  {
   "cell_type": "code",
   "execution_count": 352,
   "metadata": {
    "vscode": {
     "languageId": "python"
    }
   },
   "outputs": [],
   "source": [
    "test = pd.read_csv('../datasets/henry_lab_disk/properties_colombia_test.csv', sep = ',')\n",
    "test.drop('id', axis=1, inplace=True)\n",
    "test.rename(columns={'Unnamed: 0':'id'}, inplace=True)\n",
    "test.set_index('id', inplace=True)"
   ]
  },
  {
   "cell_type": "code",
   "execution_count": 353,
   "metadata": {
    "vscode": {
     "languageId": "python"
    }
   },
   "outputs": [
    {
     "data": {
      "text/plain": [
       "(65850, 24)"
      ]
     },
     "execution_count": 353,
     "metadata": {},
     "output_type": "execute_result"
    }
   ],
   "source": [
    "test.shape"
   ]
  },
  {
   "cell_type": "code",
   "execution_count": 354,
   "metadata": {
    "vscode": {
     "languageId": "python"
    }
   },
   "outputs": [
    {
     "name": "stderr",
     "output_type": "stream",
     "text": [
      "<>:31: DeprecationWarning: invalid escape sequence \\d\n",
      "<>:31: DeprecationWarning: invalid escape sequence \\d\n",
      "/tmp/ipykernel_286/2543621569.py:31: DeprecationWarning: invalid escape sequence \\d\n",
      "  test['description'] = test['description'].str.replace('ref#\\d+','',regex = True)\n"
     ]
    }
   ],
   "source": [
    "todrop = ['operation_type', 'currency', 'created_on', 'price_period', 'l1', 'ad_type']\n",
    "test.drop(todrop, axis=1, inplace=True)\n",
    "test = trim_all_columns(test)\n",
    "test['title'] = normalize_column(test, 'title')\n",
    "test['description'] = normalize_column(test, 'description')\n",
    "test['title'] = test['title'].str.lower().str.strip()\n",
    "test['description'] = test['description'].str.lower().str.strip()\n",
    "pattern = '|'.join(['\\n','\\r', '\\t' ,'\\xa0','\\u200b',','])\n",
    "test['title'] = clean_values(test['title'], pattern, value=' ')\n",
    "test['description'] = clean_values(test['description'], pattern, value=' ')\n",
    "pattern2 = '|'.join(['_', '[(|)]', '-',':',';'])\n",
    "test['title'] = clean_values(test['title'], pattern2, regex = True, value=' ')\n",
    "test['description'] = clean_values(test['description'], pattern2, regex = True, value=' ')\n",
    "test['title'] = clean_values(test['title'], r\"\\<.*?\\>\", regex = True, value=' ')\n",
    "test['description'] = clean_values(test['description'], pattern2, regex = True, value=' ')\n",
    "test['title'] = clean_values(test['title'], r\"\\{.*?\\}\", regex = True, value=' ')\n",
    "test['description'] = clean_values(test['description'], pattern2, regex = True, value=' ')\n",
    "test['title'] = test['title'].str.replace(' +',' ', regex=True)\n",
    "test['description'] = test['description'].str.replace(' +',' ', regex = True)\n",
    "\n",
    "test['description'] = test['description'].str.replace('br / ','',regex = False)\n",
    "test['description'] = test['description'].str.replace('/b','',regex = False)\n",
    "test['description'] = test['description'].str.replace(' br ','',regex = False)\n",
    "test['description'] = test['description'].str.replace(' b ','',regex = False)\n",
    "test['description'] = test['description'].str.replace('&aacute ','a',regex = False)\n",
    "test['description'] = test['description'].str.replace('&eacute ','e',regex = False)\n",
    "test['description'] = test['description'].str.replace('&iacute ','i',regex = False)\n",
    "test['description'] = test['description'].str.replace('&oacute ','o',regex = False)\n",
    "test['description'] = test['description'].str.replace('&uacute ','u',regex = False)\n",
    "test['description'] = test['description'].str.replace('&ntilde ','ñ',regex = False)\n",
    "test['description'] = test['description'].str.replace('ref#\\d+','',regex = True)\n",
    "test['description'] = test['description'].str.replace('!!!','',regex = False)\n",
    "\n",
    "\n",
    "regex = r\"(\\d+\\.?\\d+(?=m2| m2| mts2| metros cuadrados| mts))\"\n",
    "mask1 = test.loc[:,'title'].str.extract(regex, expand = False).notna()\n",
    "mask2 = test.loc[:,'description'].str.extract(regex, expand = False).notna()\n",
    "mask_na = test['surface_total'].isna()\n",
    "test.loc[mask_na & mask1, 'surface_total'] = test.loc[mask_na & mask1, 'title'].str.extract(regex, expand = False)\n",
    "test.loc[mask_na & mask2, 'surface_total'] = test.loc[mask_na & mask2, 'description'].str.extract(regex, expand = False)\n",
    "\n",
    "mask1 = test['surface_total'].isna()\n",
    "mask2 = test['surface_covered'].notna()\n",
    "test.loc[mask1 & mask2,'surface_total'] = test.loc[mask1 & mask2,'surface_covered']\n",
    "\n",
    "regex = r\"(\\d+\\.?\\d+(?=hectareas| hectareas|hectáreas| hectáreas|hectárea| hectárea|hectare| hectare|has| has))\"\n",
    "indexes = test.loc[:,'description'].str.extract(regex, expand = False).dropna().astype(float).sort_values(ascending = False).index.tolist()\n",
    "test.loc[indexes, 'surface_total'] = test.loc[indexes,'description'].str.extract(regex, expand = False).dropna().astype(float).mul(10000)\n",
    "\n",
    "test['surface_total'] = pd.to_numeric(test['surface_total'], errors='coerce')\n",
    "\n",
    "value = '|'.join(['pileta', 'piscina','natatorio'])\n",
    "test['pileta'] = test['description'].str.contains(value, regex = True, case = False)\n",
    "test['pileta'].fillna(False, inplace=True)\n",
    "\n",
    "value = '|'.join(['vigilancia 24', 'porteria 24', 'seguridad 24', 'vigilancia las 24', 'porteria las 24', 'seguridad las 24'])\n",
    "test['vigilancia'] = test['description'].str.contains(value, regex = True, case = False)\n",
    "test['vigilancia'].fillna(False, inplace=True)\n",
    "\n",
    "value = '|'.join(['patio', 'jardin', 'parque'])\n",
    "test['patio'] = test['description'].str.contains(value, regex = True, case = False)\n",
    "test['patio'].fillna(False, inplace=True)\n",
    "\n",
    "value = '|'.join(['garage', 'garaje', 'cochera', 'parquedero'])\n",
    "test['garage'] = test['description'].str.contains(value, regex = True, case = False)\n",
    "test['garage'].fillna(False, inplace=True)\n",
    "\n",
    "value = '|'.join(['balcon', 'balcn', 'valcon'])\n",
    "test['balcon'] = test['description'].str.contains(value, regex = True, case = False)\n",
    "test['balcon'].fillna(False, inplace=True)\n",
    "\n",
    "value = '|'.join(['cancha'])\n",
    "test['cancha'] = test['description'].str.contains(value, regex = True, case = False)\n",
    "test['cancha'].fillna(False, inplace=True)\n",
    "\n",
    "value = '|'.join(['gimnasio', 'gym', 'gim', 'fitnes'])\n",
    "test['gimnasio'] = test['description'].str.contains(value, regex = True, case = False)\n",
    "test['gimnasio'].fillna(False, inplace=True)\n",
    "\n",
    "value = '|'.join(['sauna', 'solarium', 'ducha turca', 'ducha escocesa'])\n",
    "test['sauna'] = test['description'].str.contains(value, regex = True, case = False)\n",
    "test['sauna'].fillna(False, inplace=True)\n",
    "\n",
    "value = '|'.join(['estren'])\n",
    "test['a_estrenar'] = test['description'].str.contains(value, regex = True, case = False)\n",
    "test['a_estrenar'].fillna(False, inplace=True)\n",
    "\n",
    "\n",
    "\n",
    "\n",
    "regex = r\"(\\d+(?=bano| bano|banio| banio))\"\n",
    "mask = test.loc[:,'bathrooms'].isna()\n",
    "test.loc[mask, 'bathrooms'] = test.loc[mask, 'description'].str.extract(regex, expand = False)\n",
    "\n",
    "regex = r'(un)|(?=bano| bano|banio| banio| bao|bao)'\n",
    "mask = test.loc[:,'bathrooms'].isna()\n",
    "test.loc[mask, 'bathrooms'] = test.loc[mask, 'description'].str.extract(regex, expand = False)\n",
    "test['bathrooms'] = test['bathrooms'].str.replace('un', '1')\n",
    "\n",
    "\n",
    "regex = r'(dos)|(?=bano| bano|banio| banio| bao|bao)'\n",
    "mask = test.loc[:,'bathrooms'].isna()\n",
    "test.loc[mask, 'bathrooms'] = test.loc[mask, 'description'].str.extract(regex, expand = False)\n",
    "test['bathrooms'] = test['bathrooms'].str.replace('dos', '2')\n",
    "\n",
    "regex = r'(tres)|(?=bano| bano|banio| banio| bao|bao)'\n",
    "mask = test.loc[:,'bathrooms'].isna()\n",
    "test.loc[mask, 'bathrooms'] = test.loc[mask, 'description'].str.extract(regex, expand = False)\n",
    "test['bathrooms'] = test['bathrooms'].str.replace('tres', '3')\n",
    "\n",
    "regex = r'(cuatro)|(?=bano| bano|banio| banio| bao|bao)'\n",
    "mask = test.loc[:,'bathrooms'].isna()\n",
    "test.loc[mask, 'bathrooms'] = test.loc[mask, 'description'].str.extract(regex, expand = False)\n",
    "test['bathrooms'] = test['bathrooms'].str.replace('cuatro', '4')\n",
    "\n",
    "regex = r'(cinco)|(?=bano| bano|banio| banio| bao|bao)'\n",
    "mask = test.loc[:,'bathrooms'].isna()\n",
    "test.loc[mask, 'bathrooms'] = test.loc[mask, 'description'].str.extract(regex, expand = False)\n",
    "test['bathrooms'] = test['bathrooms'].str.replace('cinco', '5')\n",
    "\n",
    "regex = r'(seis)|(?=bano| bano|banio| banio| bao|bao)'\n",
    "mask = test.loc[:,'bathrooms'].isna()\n",
    "test.loc[mask, 'bathrooms'] = test.loc[mask, 'description'].str.extract(regex, expand = False)\n",
    "test['bathrooms'] = test['bathrooms'].str.replace('seis', '6')\n",
    "\n",
    "regex = r'(siete)|(?=bano| bano|banio| banio| bao|bao)'\n",
    "mask = test.loc[:,'bathrooms'].isna()\n",
    "test.loc[mask, 'bathrooms'] = test.loc[mask, 'description'].str.extract(regex, expand = False)\n",
    "test['bathrooms'] = test['bathrooms'].str.replace('siete', '7')\n",
    "\n",
    "regex = r'(ocho)|(?=bano| bano|banio| banio| bao|bao)'\n",
    "mask = test.loc[:,'bathrooms'].isna()\n",
    "test.loc[mask, 'bathrooms'] = test.loc[mask, 'description'].str.extract(regex, expand = False)\n",
    "test['bathrooms'] = test['bathrooms'].str.replace('ocho', '8')\n",
    "\n",
    "test['bathrooms'] = pd.to_numeric(test['bathrooms'], errors = 'coerce')\n",
    "test['bathrooms_cat'] = pd.cut(test['bathrooms'], bins = [0,1,2,3,np.inf], labels = ['0','1','2','3 o mas'])\n",
    "\n",
    "\n",
    "\n",
    "\n",
    "regex = r'(\\d+(?=habitac| habitac |alcob| alcob|cuart| cuart))'\n",
    "mask = test.loc[:,'bedrooms'].isna()\n",
    "test.loc[mask, 'bedrooms'] = test.loc[mask, 'description'].str.extract(regex, expand = False)\n",
    "\n",
    "regex = r'(una)|(?=habitac| habitac |alcob| alcob|cuart| cuart)'\n",
    "mask = test.loc[:,'bedrooms'].isna()\n",
    "test.loc[mask, 'bedrooms'] = test.loc[mask, 'description'].str.extract(regex, expand = False)\n",
    "test['bedrooms'] = test['bedrooms'].str.replace('una', '1')\n",
    "test['bedrooms'].isna().value_counts()\n",
    "\n",
    "regex = r'(un)|(?=habitac| habitac |alcob| alcob|cuart| cuart)'\n",
    "mask = test.loc[:,'bedrooms'].isna()\n",
    "test.loc[mask, 'bedrooms'] = test.loc[mask, 'description'].str.extract(regex, expand = False)\n",
    "test['bedrooms'] = test['bedrooms'].str.replace('un', '1')\n",
    "test['bedrooms'].isna().value_counts()\n",
    "\n",
    "regex = r'(dos)|(?=habitac| habitac |alcob| alcob|cuart| cuart)'\n",
    "mask = test.loc[:,'bedrooms'].isna()\n",
    "test.loc[mask, 'bedrooms'] = test.loc[mask, 'description'].str.extract(regex, expand = False)\n",
    "test['bedrooms'] = test['bedrooms'].str.replace('dos', '2')\n",
    "test['bedrooms'].isna().value_counts()\n",
    "\n",
    "regex = r'(tres)|(?=habitac| habitac |alcob| alcob|cuart| cuart)'\n",
    "mask = test.loc[:,'bedrooms'].isna()\n",
    "test.loc[mask, 'bedrooms'] = test.loc[mask, 'description'].str.extract(regex, expand = False)\n",
    "test['bedrooms'] = test['bedrooms'].str.replace('tres', '3')\n",
    "test['bedrooms'].isna().value_counts()\n",
    "\n",
    "regex = r'(cuatro)|(?=habitac| habitac |alcob| alcob|cuart| cuart)'\n",
    "mask = test.loc[:,'bedrooms'].isna()\n",
    "test.loc[mask, 'bedrooms'] = test.loc[mask, 'description'].str.extract(regex, expand = False)\n",
    "test['bedrooms'] = test['bedrooms'].str.replace('cuatro', '4')\n",
    "test['bedrooms'].isna().value_counts()\n",
    "\n",
    "regex = r'(cinco)|(?=habitac| habitac |alcob| alcob|cuart| cuart)'\n",
    "mask = test.loc[:,'bedrooms'].isna()\n",
    "test.loc[mask, 'bedrooms'] = test.loc[mask, 'description'].str.extract(regex, expand = False)\n",
    "test['bedrooms'] = test['bedrooms'].str.replace('cinco', '5')\n",
    "test['bedrooms'].isna().value_counts()\n",
    "\n",
    "regex = r'(seis)|(?=habitac| habitac |alcob| alcob|cuart| cuart)'\n",
    "mask = test.loc[:,'bedrooms'].isna()\n",
    "test.loc[mask, 'bedrooms'] = test.loc[mask, 'description'].str.extract(regex, expand = False)\n",
    "test['bedrooms'] = test['bedrooms'].str.replace('seis', '6')\n",
    "test['bedrooms'].isna().value_counts()\n",
    "\n",
    "\n",
    "test['bedrooms'] = pd.to_numeric(test['bedrooms'], errors = 'coerce')\n",
    "test['bedrooms_cat'] = pd.cut(test['bedrooms'], bins = [0,1,2,3,np.inf], labels = ['0','1','2','3 o mas'])\n",
    "\n",
    "test['description'].fillna(' ', inplace=True)"
   ]
  },
  {
   "cell_type": "code",
   "execution_count": 355,
   "metadata": {
    "vscode": {
     "languageId": "python"
    }
   },
   "outputs": [
    {
     "data": {
      "text/plain": [
       "(65850, 29)"
      ]
     },
     "execution_count": 355,
     "metadata": {},
     "output_type": "execute_result"
    }
   ],
   "source": [
    "test.shape"
   ]
  },
  {
   "cell_type": "code",
   "execution_count": 356,
   "metadata": {
    "vscode": {
     "languageId": "python"
    }
   },
   "outputs": [],
   "source": [
    "test.drop('geometry', axis = 1, inplace = True)\n",
    "mask_l2 = test.loc[:,'l2'].notna()\n",
    "mask_l3 = test.loc[:,'l3'].notna()\n",
    "mask_l4 = test.loc[:,'l4'].notna()\n",
    "mask_l5 = test.loc[:,'l5'].notna()\n",
    "mask_l6 = test.loc[:,'l6'].notna()\n",
    "mask_lat = test.loc[:,'lat'].isna()\n",
    "mask_lon = test.loc[:,'lon'].isna()\n",
    "\n",
    "locations_gps = pd.read_csv('./data/gps/locations_all_df_google.csv')\n",
    "test['full_location'] = test.agg(lambda x: f\"{x['l6']},{x['l5']},{x['l4']},{x['l3']},{x['l2']},Colombia\", axis=1)\n",
    "test['full_location'] = test['full_location'].str.replace('nan,','')\n",
    "test = test.merge(locations_gps, how='left',  left_on='full_location', right_on='l_all', suffixes=('', '_new'))\n",
    "test['lat'] = np.where(test['lat'].isna(), test['lat_new'], test['lat'])\n",
    "test['lon'] = np.where(test['lon'].isna(), test['lon_new'], test['lon'])\n",
    "todrop = ['full_location', 'l_all', 'lat_new', 'lon_new']\n",
    "test.drop(todrop, axis = 1, inplace = True)\n",
    "\n",
    "test['end_date'] = pd.to_datetime(test['end_date'], errors = 'coerce')\n",
    "test['start_date'] = pd.to_datetime(test['start_date'], errors = 'coerce')\n",
    "test['days_published'] = test['end_date'] - test['start_date']\n",
    "test['days_published'] = test['days_published'].dt.days\n",
    "test.drop('end_date', axis = 1, inplace = True)\n"
   ]
  },
  {
   "cell_type": "code",
   "execution_count": 357,
   "metadata": {
    "vscode": {
     "languageId": "python"
    }
   },
   "outputs": [
    {
     "data": {
      "text/plain": [
       "(65850, 28)"
      ]
     },
     "execution_count": 357,
     "metadata": {},
     "output_type": "execute_result"
    }
   ],
   "source": [
    "test.shape"
   ]
  },
  {
   "cell_type": "code",
   "execution_count": 358,
   "metadata": {
    "vscode": {
     "languageId": "python"
    }
   },
   "outputs": [],
   "source": [
    "test_nodeleted = test.copy()\n",
    "test_nodeleted.to_csv('./data/test_nodeleted.csv')\n",
    "todrop = ['bedrooms', 'rooms', 'bathrooms','surface_covered', 'l4', 'l5', 'l6', 'title', 'description']#,\n",
    " #'bathrooms_cat',\n",
    "# 'bedrooms_cat']\n",
    "\n",
    "test_before_drop = test.copy()\n",
    "test.drop(todrop, axis = 1, inplace = True)"
   ]
  },
  {
   "cell_type": "code",
   "execution_count": 359,
   "metadata": {
    "vscode": {
     "languageId": "python"
    }
   },
   "outputs": [],
   "source": [
    "test['l2'].fillna('NA', inplace = True)\n",
    "test['l3'].fillna('NA', inplace = True)\n",
    "test['property_type'].fillna(test['property_type'].mode()[0], inplace = True)\n",
    "\n",
    "cat_encode = [\n",
    " 'pileta',\n",
    " 'vigilancia',\n",
    " 'patio',\n",
    " 'garage',\n",
    " 'balcon',\n",
    " 'cancha',\n",
    " 'gimnasio',\n",
    " 'sauna',\n",
    " 'a_estrenar',\n",
    "'bathrooms_cat',\n",
    "'bedrooms_cat']\n",
    "\n",
    "le = LabelEncoder()\n",
    "test[cat_encode] = test[cat_encode].apply(lambda x: le.fit_transform(x))\n",
    "\n",
    "test['surface_total'] = test['surface_total'].astype(float)\n",
    "test['start_date'].fillna(test['start_date'].mode()[0], inplace = True)\n",
    "\n",
    "lista_na = test.loc[:, test.isna().any()].columns.tolist()\n",
    "test_mice = test.filter(lista_na, axis=1).copy()\n",
    "mice_imputer = IterativeImputer(estimator=linear_model.BayesianRidge(), n_nearest_features=None, imputation_order='ascending')\n",
    "df_mice_imputed = pd.DataFrame(mice_imputer.fit_transform(test_mice), columns=test_mice.columns)\n",
    "test[df_mice_imputed.columns.tolist()] = df_mice_imputed"
   ]
  },
  {
   "cell_type": "code",
   "execution_count": 360,
   "metadata": {
    "vscode": {
     "languageId": "python"
    }
   },
   "outputs": [
    {
     "data": {
      "text/plain": [
       "(65850, 19)"
      ]
     },
     "execution_count": 360,
     "metadata": {},
     "output_type": "execute_result"
    }
   ],
   "source": [
    "test.shape"
   ]
  },
  {
   "cell_type": "code",
   "execution_count": 361,
   "metadata": {
    "vscode": {
     "languageId": "python"
    }
   },
   "outputs": [],
   "source": [
    "test.to_csv('./data/cleaned/test_cleaned_imputed.csv', index = True)"
   ]
  },
  {
   "cell_type": "code",
   "execution_count": 362,
   "metadata": {
    "vscode": {
     "languageId": "python"
    }
   },
   "outputs": [
    {
     "data": {
      "application/vnd.jupyter.widget-view+json": {
       "model_id": "3aaa644b14c44af2b09edf5ed5e979eb",
       "version_major": 2,
       "version_minor": 0
      },
      "text/plain": [
       "Summarize dataset:   0%|          | 0/5 [00:00<?, ?it/s]"
      ]
     },
     "metadata": {},
     "output_type": "display_data"
    },
    {
     "name": "stderr",
     "output_type": "stream",
     "text": [
      "/usr/local/lib/python3.9/dist-packages/missingno/missingno.py:73: MatplotlibDeprecationWarning: The 'b' parameter of grid() has been renamed 'visible' since Matplotlib 3.5; support for the old name will be dropped two minor releases later.\n",
      "  ax0.grid(b=False)\n"
     ]
    },
    {
     "data": {
      "application/vnd.jupyter.widget-view+json": {
       "model_id": "bf04b22cd2894b0aa7499d6977939ed3",
       "version_major": 2,
       "version_minor": 0
      },
      "text/plain": [
       "Generate report structure:   0%|          | 0/1 [00:00<?, ?it/s]"
      ]
     },
     "metadata": {},
     "output_type": "display_data"
    },
    {
     "data": {
      "application/vnd.jupyter.widget-view+json": {
       "model_id": "878f0cc7999c4b369301711617fcff84",
       "version_major": 2,
       "version_minor": 0
      },
      "text/plain": [
       "Render HTML:   0%|          | 0/1 [00:00<?, ?it/s]"
      ]
     },
     "metadata": {},
     "output_type": "display_data"
    },
    {
     "data": {
      "application/vnd.jupyter.widget-view+json": {
       "model_id": "3caf9f23290f4355883dc12094f77752",
       "version_major": 2,
       "version_minor": 0
      },
      "text/plain": [
       "Export report to file:   0%|          | 0/1 [00:00<?, ?it/s]"
      ]
     },
     "metadata": {},
     "output_type": "display_data"
    }
   ],
   "source": [
    "from pandas_profiling import ProfileReport\n",
    "profile = ProfileReport(test)\n",
    "profile.to_file(\"reporte_test.html\")"
   ]
  },
  {
   "cell_type": "markdown",
   "metadata": {},
   "source": [
    "## MINIMAL EXPLORATORY ANALYSIS"
   ]
  },
  {
   "cell_type": "markdown",
   "metadata": {},
   "source": [
    "## CORRELATION PLOT"
   ]
  },
  {
   "cell_type": "code",
   "execution_count": 363,
   "metadata": {
    "vscode": {
     "languageId": "python"
    }
   },
   "outputs": [
    {
     "data": {
      "text/plain": [
       "<AxesSubplot:>"
      ]
     },
     "execution_count": 363,
     "metadata": {},
     "output_type": "execute_result"
    },
    {
     "data": {
      "image/png": "[encoded data removed]",
      "text/plain": [
       "<Figure size 720x720 with 2 Axes>"
      ]
     },
     "metadata": {
      "needs_background": "light"
     },
     "output_type": "display_data"
    }
   ],
   "source": [
    "import matplotlib.pyplot as plt\n",
    "import seaborn as sns\n",
    "\n",
    "plt.figure(figsize=(10,10))\n",
    "sns.heatmap(test.corr(method='spearman'), annot=True, fmt='.1g', cmap='coolwarm')"
   ]
  },
  {
   "cell_type": "code",
   "execution_count": 364,
   "metadata": {
    "vscode": {
     "languageId": "python"
    }
   },
   "outputs": [
    {
     "data": {
      "text/html": [
       "<div>\n",
       "<style scoped>\n",
       "    .dataframe tbody tr th:only-of-type {\n",
       "        vertical-align: middle;\n",
       "    }\n",
       "\n",
       "    .dataframe tbody tr th {\n",
       "        vertical-align: top;\n",
       "    }\n",
       "\n",
       "    .dataframe thead th {\n",
       "        text-align: right;\n",
       "    }\n",
       "</style>\n",
       "<table border=\"1\" class=\"dataframe\">\n",
       "  <thead>\n",
       "    <tr style=\"text-align: right;\">\n",
       "      <th></th>\n",
       "      <th>lat</th>\n",
       "      <th>lon</th>\n",
       "      <th>surface_total</th>\n",
       "      <th>pileta</th>\n",
       "      <th>vigilancia</th>\n",
       "      <th>patio</th>\n",
       "      <th>garage</th>\n",
       "      <th>balcon</th>\n",
       "      <th>cancha</th>\n",
       "      <th>gimnasio</th>\n",
       "      <th>sauna</th>\n",
       "      <th>a_estrenar</th>\n",
       "      <th>bathrooms_cat</th>\n",
       "      <th>bedrooms_cat</th>\n",
       "      <th>days_published</th>\n",
       "    </tr>\n",
       "  </thead>\n",
       "  <tbody>\n",
       "    <tr>\n",
       "      <th>count</th>\n",
       "      <td>65850.0000000000</td>\n",
       "      <td>65850.0000000000</td>\n",
       "      <td>65850.0000000000</td>\n",
       "      <td>65850.0000000000</td>\n",
       "      <td>65850.0000000000</td>\n",
       "      <td>65850.0000000000</td>\n",
       "      <td>65850.0000000000</td>\n",
       "      <td>65850.0000000000</td>\n",
       "      <td>65850.0000000000</td>\n",
       "      <td>65850.0000000000</td>\n",
       "      <td>65850.0000000000</td>\n",
       "      <td>65850.0000000000</td>\n",
       "      <td>65850.0000000000</td>\n",
       "      <td>65850.0000000000</td>\n",
       "      <td>65850.0000000000</td>\n",
       "    </tr>\n",
       "    <tr>\n",
       "      <th>mean</th>\n",
       "      <td>5.8286446381</td>\n",
       "      <td>-75.1157078198</td>\n",
       "      <td>13670917.1665121969</td>\n",
       "      <td>0.2389217920</td>\n",
       "      <td>0.1429612756</td>\n",
       "      <td>0.6040698557</td>\n",
       "      <td>0.1582232346</td>\n",
       "      <td>0.2790888383</td>\n",
       "      <td>0.1097342445</td>\n",
       "      <td>0.1514806378</td>\n",
       "      <td>0.0602277904</td>\n",
       "      <td>0.0464236902</td>\n",
       "      <td>2.5588610478</td>\n",
       "      <td>1.6405618831</td>\n",
       "      <td>41.3513433300</td>\n",
       "    </tr>\n",
       "    <tr>\n",
       "      <th>std</th>\n",
       "      <td>2.0989175864</td>\n",
       "      <td>1.0224810692</td>\n",
       "      <td>1161132091.4183301926</td>\n",
       "      <td>0.4264281073</td>\n",
       "      <td>0.3500360124</td>\n",
       "      <td>0.4890532662</td>\n",
       "      <td>0.3649529631</td>\n",
       "      <td>0.4485546946</td>\n",
       "      <td>0.3125605920</td>\n",
       "      <td>0.3585194641</td>\n",
       "      <td>0.2379102000</td>\n",
       "      <td>0.2104024797</td>\n",
       "      <td>1.5931558855</td>\n",
       "      <td>1.6523800261</td>\n",
       "      <td>60.7247213479</td>\n",
       "    </tr>\n",
       "    <tr>\n",
       "      <th>min</th>\n",
       "      <td>-4.2031650000</td>\n",
       "      <td>-81.7050520000</td>\n",
       "      <td>0.0000000000</td>\n",
       "      <td>0.0000000000</td>\n",
       "      <td>0.0000000000</td>\n",
       "      <td>0.0000000000</td>\n",
       "      <td>0.0000000000</td>\n",
       "      <td>0.0000000000</td>\n",
       "      <td>0.0000000000</td>\n",
       "      <td>0.0000000000</td>\n",
       "      <td>0.0000000000</td>\n",
       "      <td>0.0000000000</td>\n",
       "      <td>0.0000000000</td>\n",
       "      <td>0.0000000000</td>\n",
       "      <td>0.0000000000</td>\n",
       "    </tr>\n",
       "    <tr>\n",
       "      <th>25%</th>\n",
       "      <td>4.6458253750</td>\n",
       "      <td>-75.5963845000</td>\n",
       "      <td>220.0000000000</td>\n",
       "      <td>0.0000000000</td>\n",
       "      <td>0.0000000000</td>\n",
       "      <td>0.0000000000</td>\n",
       "      <td>0.0000000000</td>\n",
       "      <td>0.0000000000</td>\n",
       "      <td>0.0000000000</td>\n",
       "      <td>0.0000000000</td>\n",
       "      <td>0.0000000000</td>\n",
       "      <td>0.0000000000</td>\n",
       "      <td>1.0000000000</td>\n",
       "      <td>0.0000000000</td>\n",
       "      <td>1.0000000000</td>\n",
       "    </tr>\n",
       "    <tr>\n",
       "      <th>50%</th>\n",
       "      <td>5.0779873000</td>\n",
       "      <td>-75.5248435950</td>\n",
       "      <td>13670917.1664668303</td>\n",
       "      <td>0.0000000000</td>\n",
       "      <td>0.0000000000</td>\n",
       "      <td>1.0000000000</td>\n",
       "      <td>0.0000000000</td>\n",
       "      <td>0.0000000000</td>\n",
       "      <td>0.0000000000</td>\n",
       "      <td>0.0000000000</td>\n",
       "      <td>0.0000000000</td>\n",
       "      <td>0.0000000000</td>\n",
       "      <td>4.0000000000</td>\n",
       "      <td>1.0000000000</td>\n",
       "      <td>15.0000000000</td>\n",
       "    </tr>\n",
       "    <tr>\n",
       "      <th>75%</th>\n",
       "      <td>6.2476376000</td>\n",
       "      <td>-74.1571576000</td>\n",
       "      <td>13670917.1666551046</td>\n",
       "      <td>0.0000000000</td>\n",
       "      <td>0.0000000000</td>\n",
       "      <td>1.0000000000</td>\n",
       "      <td>0.0000000000</td>\n",
       "      <td>1.0000000000</td>\n",
       "      <td>0.0000000000</td>\n",
       "      <td>0.0000000000</td>\n",
       "      <td>0.0000000000</td>\n",
       "      <td>0.0000000000</td>\n",
       "      <td>4.0000000000</td>\n",
       "      <td>4.0000000000</td>\n",
       "      <td>61.0000000000</td>\n",
       "    </tr>\n",
       "    <tr>\n",
       "      <th>max</th>\n",
       "      <td>13.3387613000</td>\n",
       "      <td>-67.9243361000</td>\n",
       "      <td>297965560000.0000000000</td>\n",
       "      <td>1.0000000000</td>\n",
       "      <td>1.0000000000</td>\n",
       "      <td>1.0000000000</td>\n",
       "      <td>1.0000000000</td>\n",
       "      <td>1.0000000000</td>\n",
       "      <td>1.0000000000</td>\n",
       "      <td>1.0000000000</td>\n",
       "      <td>1.0000000000</td>\n",
       "      <td>1.0000000000</td>\n",
       "      <td>4.0000000000</td>\n",
       "      <td>4.0000000000</td>\n",
       "      <td>431.0000000000</td>\n",
       "    </tr>\n",
       "  </tbody>\n",
       "</table>\n",
       "</div>"
      ],
      "text/plain": [
       "                   lat              lon           surface_total  \\\n",
       "count 65850.0000000000 65850.0000000000        65850.0000000000   \n",
       "mean      5.8286446381   -75.1157078198     13670917.1665121969   \n",
       "std       2.0989175864     1.0224810692   1161132091.4183301926   \n",
       "min      -4.2031650000   -81.7050520000            0.0000000000   \n",
       "25%       4.6458253750   -75.5963845000          220.0000000000   \n",
       "50%       5.0779873000   -75.5248435950     13670917.1664668303   \n",
       "75%       6.2476376000   -74.1571576000     13670917.1666551046   \n",
       "max      13.3387613000   -67.9243361000 297965560000.0000000000   \n",
       "\n",
       "                pileta       vigilancia            patio           garage  \\\n",
       "count 65850.0000000000 65850.0000000000 65850.0000000000 65850.0000000000   \n",
       "mean      0.2389217920     0.1429612756     0.6040698557     0.1582232346   \n",
       "std       0.4264281073     0.3500360124     0.4890532662     0.3649529631   \n",
       "min       0.0000000000     0.0000000000     0.0000000000     0.0000000000   \n",
       "25%       0.0000000000     0.0000000000     0.0000000000     0.0000000000   \n",
       "50%       0.0000000000     0.0000000000     1.0000000000     0.0000000000   \n",
       "75%       0.0000000000     0.0000000000     1.0000000000     0.0000000000   \n",
       "max       1.0000000000     1.0000000000     1.0000000000     1.0000000000   \n",
       "\n",
       "                balcon           cancha         gimnasio            sauna  \\\n",
       "count 65850.0000000000 65850.0000000000 65850.0000000000 65850.0000000000   \n",
       "mean      0.2790888383     0.1097342445     0.1514806378     0.0602277904   \n",
       "std       0.4485546946     0.3125605920     0.3585194641     0.2379102000   \n",
       "min       0.0000000000     0.0000000000     0.0000000000     0.0000000000   \n",
       "25%       0.0000000000     0.0000000000     0.0000000000     0.0000000000   \n",
       "50%       0.0000000000     0.0000000000     0.0000000000     0.0000000000   \n",
       "75%       1.0000000000     0.0000000000     0.0000000000     0.0000000000   \n",
       "max       1.0000000000     1.0000000000     1.0000000000     1.0000000000   \n",
       "\n",
       "            a_estrenar    bathrooms_cat     bedrooms_cat   days_published  \n",
       "count 65850.0000000000 65850.0000000000 65850.0000000000 65850.0000000000  \n",
       "mean      0.0464236902     2.5588610478     1.6405618831    41.3513433300  \n",
       "std       0.2104024797     1.5931558855     1.6523800261    60.7247213479  \n",
       "min       0.0000000000     0.0000000000     0.0000000000     0.0000000000  \n",
       "25%       0.0000000000     1.0000000000     0.0000000000     1.0000000000  \n",
       "50%       0.0000000000     4.0000000000     1.0000000000    15.0000000000  \n",
       "75%       0.0000000000     4.0000000000     4.0000000000    61.0000000000  \n",
       "max       1.0000000000     4.0000000000     4.0000000000   431.0000000000  "
      ]
     },
     "execution_count": 364,
     "metadata": {},
     "output_type": "execute_result"
    }
   ],
   "source": [
    "test.describe()"
   ]
  },
  {
   "cell_type": "code",
   "execution_count": 365,
   "metadata": {
    "vscode": {
     "languageId": "python"
    }
   },
   "outputs": [],
   "source": [
    "cat = ['property_type','pileta','vigilancia','patio','garage','balcon','cancha','gimnasio','sauna','a_estrenar']#,'bathrooms_cat','bedrooms_cat']\n",
    "\n",
    "subset = test.drop(['l2','l3','start_date','lat','lon'], axis=1)"
   ]
  },
  {
   "cell_type": "code",
   "execution_count": 366,
   "metadata": {
    "vscode": {
     "languageId": "python"
    }
   },
   "outputs": [
    {
     "data": {
      "text/html": [
       "<div>\n",
       "<style scoped>\n",
       "    .dataframe tbody tr th:only-of-type {\n",
       "        vertical-align: middle;\n",
       "    }\n",
       "\n",
       "    .dataframe tbody tr th {\n",
       "        vertical-align: top;\n",
       "    }\n",
       "\n",
       "    .dataframe thead th {\n",
       "        text-align: right;\n",
       "    }\n",
       "</style>\n",
       "<table border=\"1\" class=\"dataframe\">\n",
       "  <thead>\n",
       "    <tr style=\"text-align: right;\">\n",
       "      <th></th>\n",
       "      <th></th>\n",
       "      <th>Missing</th>\n",
       "      <th>Overall</th>\n",
       "    </tr>\n",
       "  </thead>\n",
       "  <tbody>\n",
       "    <tr>\n",
       "      <th>n</th>\n",
       "      <th></th>\n",
       "      <td></td>\n",
       "      <td>65850</td>\n",
       "    </tr>\n",
       "    <tr>\n",
       "      <th>surface_total, mean (SD)</th>\n",
       "      <th></th>\n",
       "      <td>0</td>\n",
       "      <td>13670917.2 (1161132091.4)</td>\n",
       "    </tr>\n",
       "    <tr>\n",
       "      <th rowspan=\"8\" valign=\"top\">property_type, n (%)</th>\n",
       "      <th>Apartamento</th>\n",
       "      <td>0</td>\n",
       "      <td>33524 (50.9)</td>\n",
       "    </tr>\n",
       "    <tr>\n",
       "      <th>Casa</th>\n",
       "      <td></td>\n",
       "      <td>20084 (30.5)</td>\n",
       "    </tr>\n",
       "    <tr>\n",
       "      <th>Finca</th>\n",
       "      <td></td>\n",
       "      <td>377 (0.6)</td>\n",
       "    </tr>\n",
       "    <tr>\n",
       "      <th>Local comercial</th>\n",
       "      <td></td>\n",
       "      <td>434 (0.7)</td>\n",
       "    </tr>\n",
       "    <tr>\n",
       "      <th>Lote</th>\n",
       "      <td></td>\n",
       "      <td>5704 (8.7)</td>\n",
       "    </tr>\n",
       "    <tr>\n",
       "      <th>Oficina</th>\n",
       "      <td></td>\n",
       "      <td>348 (0.5)</td>\n",
       "    </tr>\n",
       "    <tr>\n",
       "      <th>Otro</th>\n",
       "      <td></td>\n",
       "      <td>5372 (8.2)</td>\n",
       "    </tr>\n",
       "    <tr>\n",
       "      <th>Parqueadero</th>\n",
       "      <td></td>\n",
       "      <td>7 (0.0)</td>\n",
       "    </tr>\n",
       "    <tr>\n",
       "      <th rowspan=\"2\" valign=\"top\">pileta, n (%)</th>\n",
       "      <th>0</th>\n",
       "      <td>0</td>\n",
       "      <td>50117 (76.1)</td>\n",
       "    </tr>\n",
       "    <tr>\n",
       "      <th>1</th>\n",
       "      <td></td>\n",
       "      <td>15733 (23.9)</td>\n",
       "    </tr>\n",
       "    <tr>\n",
       "      <th rowspan=\"2\" valign=\"top\">vigilancia, n (%)</th>\n",
       "      <th>0</th>\n",
       "      <td>0</td>\n",
       "      <td>56436 (85.7)</td>\n",
       "    </tr>\n",
       "    <tr>\n",
       "      <th>1</th>\n",
       "      <td></td>\n",
       "      <td>9414 (14.3)</td>\n",
       "    </tr>\n",
       "    <tr>\n",
       "      <th rowspan=\"2\" valign=\"top\">patio, n (%)</th>\n",
       "      <th>0</th>\n",
       "      <td>0</td>\n",
       "      <td>26072 (39.6)</td>\n",
       "    </tr>\n",
       "    <tr>\n",
       "      <th>1</th>\n",
       "      <td></td>\n",
       "      <td>39778 (60.4)</td>\n",
       "    </tr>\n",
       "    <tr>\n",
       "      <th rowspan=\"2\" valign=\"top\">garage, n (%)</th>\n",
       "      <th>0</th>\n",
       "      <td>0</td>\n",
       "      <td>55431 (84.2)</td>\n",
       "    </tr>\n",
       "    <tr>\n",
       "      <th>1</th>\n",
       "      <td></td>\n",
       "      <td>10419 (15.8)</td>\n",
       "    </tr>\n",
       "    <tr>\n",
       "      <th rowspan=\"2\" valign=\"top\">balcon, n (%)</th>\n",
       "      <th>0</th>\n",
       "      <td>0</td>\n",
       "      <td>47472 (72.1)</td>\n",
       "    </tr>\n",
       "    <tr>\n",
       "      <th>1</th>\n",
       "      <td></td>\n",
       "      <td>18378 (27.9)</td>\n",
       "    </tr>\n",
       "    <tr>\n",
       "      <th rowspan=\"2\" valign=\"top\">cancha, n (%)</th>\n",
       "      <th>0</th>\n",
       "      <td>0</td>\n",
       "      <td>58624 (89.0)</td>\n",
       "    </tr>\n",
       "    <tr>\n",
       "      <th>1</th>\n",
       "      <td></td>\n",
       "      <td>7226 (11.0)</td>\n",
       "    </tr>\n",
       "    <tr>\n",
       "      <th rowspan=\"2\" valign=\"top\">gimnasio, n (%)</th>\n",
       "      <th>0</th>\n",
       "      <td>0</td>\n",
       "      <td>55875 (84.9)</td>\n",
       "    </tr>\n",
       "    <tr>\n",
       "      <th>1</th>\n",
       "      <td></td>\n",
       "      <td>9975 (15.1)</td>\n",
       "    </tr>\n",
       "    <tr>\n",
       "      <th rowspan=\"2\" valign=\"top\">sauna, n (%)</th>\n",
       "      <th>0</th>\n",
       "      <td>0</td>\n",
       "      <td>61884 (94.0)</td>\n",
       "    </tr>\n",
       "    <tr>\n",
       "      <th>1</th>\n",
       "      <td></td>\n",
       "      <td>3966 (6.0)</td>\n",
       "    </tr>\n",
       "    <tr>\n",
       "      <th rowspan=\"2\" valign=\"top\">a_estrenar, n (%)</th>\n",
       "      <th>0</th>\n",
       "      <td>0</td>\n",
       "      <td>62793 (95.4)</td>\n",
       "    </tr>\n",
       "    <tr>\n",
       "      <th>1</th>\n",
       "      <td></td>\n",
       "      <td>3057 (4.6)</td>\n",
       "    </tr>\n",
       "    <tr>\n",
       "      <th>bathrooms_cat, mean (SD)</th>\n",
       "      <th></th>\n",
       "      <td>0</td>\n",
       "      <td>2.6 (1.6)</td>\n",
       "    </tr>\n",
       "    <tr>\n",
       "      <th>bedrooms_cat, mean (SD)</th>\n",
       "      <th></th>\n",
       "      <td>0</td>\n",
       "      <td>1.6 (1.7)</td>\n",
       "    </tr>\n",
       "    <tr>\n",
       "      <th>days_published, mean (SD)</th>\n",
       "      <th></th>\n",
       "      <td>0</td>\n",
       "      <td>41.4 (60.7)</td>\n",
       "    </tr>\n",
       "  </tbody>\n",
       "</table>\n",
       "</div>"
      ],
      "text/plain": [
       "                                          Missing                    Overall\n",
       "n                                                                      65850\n",
       "surface_total, mean (SD)                        0  13670917.2 (1161132091.4)\n",
       "property_type, n (%)      Apartamento           0               33524 (50.9)\n",
       "                          Casa                                  20084 (30.5)\n",
       "                          Finca                                    377 (0.6)\n",
       "                          Local comercial                          434 (0.7)\n",
       "                          Lote                                    5704 (8.7)\n",
       "                          Oficina                                  348 (0.5)\n",
       "                          Otro                                    5372 (8.2)\n",
       "                          Parqueadero                                7 (0.0)\n",
       "pileta, n (%)             0                     0               50117 (76.1)\n",
       "                          1                                     15733 (23.9)\n",
       "vigilancia, n (%)         0                     0               56436 (85.7)\n",
       "                          1                                      9414 (14.3)\n",
       "patio, n (%)              0                     0               26072 (39.6)\n",
       "                          1                                     39778 (60.4)\n",
       "garage, n (%)             0                     0               55431 (84.2)\n",
       "                          1                                     10419 (15.8)\n",
       "balcon, n (%)             0                     0               47472 (72.1)\n",
       "                          1                                     18378 (27.9)\n",
       "cancha, n (%)             0                     0               58624 (89.0)\n",
       "                          1                                      7226 (11.0)\n",
       "gimnasio, n (%)           0                     0               55875 (84.9)\n",
       "                          1                                      9975 (15.1)\n",
       "sauna, n (%)              0                     0               61884 (94.0)\n",
       "                          1                                       3966 (6.0)\n",
       "a_estrenar, n (%)         0                     0               62793 (95.4)\n",
       "                          1                                       3057 (4.6)\n",
       "bathrooms_cat, mean (SD)                        0                  2.6 (1.6)\n",
       "bedrooms_cat, mean (SD)                         0                  1.6 (1.7)\n",
       "days_published, mean (SD)                       0                41.4 (60.7)"
      ]
     },
     "execution_count": 366,
     "metadata": {},
     "output_type": "execute_result"
    }
   ],
   "source": [
    "from tableone import TableOne, load_dataset\n",
    "#https://tableone.readthedocs.io/en/latest/quickstart.html\n",
    "\n",
    "mytable = TableOne(subset, dip_test=True, normal_test=True, tukey_test=True, categorical = cat)\n",
    "\n",
    "mytable.tableone"
   ]
  }
 ],
 "metadata": {
  "kernelspec": {
   "display_name": "Python 3 (ipykernel)",
   "language": "python",
   "name": "python3"
  },
  "orig_nbformat": 4,
  "vscode": {
   "interpreter": {
    "hash": "11f276e131df8708bc2fc0bb3682099dca2cbd19e2af230e0a94f818ba1c6df6"
   }
  }
 },
 "nbformat": 4,
 "nbformat_minor": 2
}
